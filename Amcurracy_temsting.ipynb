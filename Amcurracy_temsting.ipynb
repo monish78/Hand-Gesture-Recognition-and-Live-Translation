{
 "cells": [
  {
   "cell_type": "code",
   "execution_count": 1,
   "id": "0a536100",
   "metadata": {},
   "outputs": [],
   "source": [
    "import pandas as pd\n",
    "from sklearn.model_selection import train_test_split\n",
    "from sklearn.preprocessing import StandardScaler\n",
    "\n",
    "\n",
    "from sklearn.neighbors import KNeighborsClassifier\n",
    "from sklearn.linear_model import LogisticRegression\n",
    "from sklearn.naive_bayes import GaussianNB\n",
    "from sklearn.svm import SVC\n",
    "from sklearn.tree import DecisionTreeClassifier\n",
    "from sklearn.ensemble import RandomForestClassifier\n",
    "from sklearn.metrics import classification_report, accuracy_score\n",
    "from sklearn.metrics import f1_score\n",
    "\n",
    "import joblib"
   ]
  },
  {
   "cell_type": "code",
   "execution_count": 2,
   "id": "9adcd915",
   "metadata": {},
   "outputs": [],
   "source": [
    "dataset = pd.read_csv('mcoords_damta.csv')\n",
    "\n",
    "#dataset.head()"
   ]
  },
  {
   "cell_type": "markdown",
   "id": "ea1c4e19",
   "metadata": {},
   "source": [
    "# Splitting Train and Test"
   ]
  },
  {
   "cell_type": "code",
   "execution_count": 3,
   "id": "e63980af",
   "metadata": {},
   "outputs": [],
   "source": [
    "X = dataset.iloc[:, 1:].values\n",
    "Y = dataset.iloc[:, 0].values"
   ]
  },
  {
   "cell_type": "code",
   "execution_count": 4,
   "id": "aee0be63",
   "metadata": {},
   "outputs": [],
   "source": [
    "X_train, X_test, y_train, y_test = train_test_split(X, Y, test_size=0.33)"
   ]
  },
  {
   "cell_type": "code",
   "execution_count": 5,
   "id": "65abafe2",
   "metadata": {},
   "outputs": [
    {
     "data": {
      "text/plain": [
       "(array([[0.18344615, 0.67910498, 0.17707908, ..., 0.62113601, 0.26521495,\n",
       "         0.64336568],\n",
       "        [0.51421183, 0.60958028, 0.42538562, ..., 0.38816893, 0.59633201,\n",
       "         0.45696187],\n",
       "        [0.03980647, 0.63123298, 0.07205419, ..., 0.59668422, 0.30508322,\n",
       "         0.60654014],\n",
       "        ...,\n",
       "        [0.40693477, 0.81959766, 0.3473897 , ..., 0.67064297, 0.45819327,\n",
       "         0.70329219],\n",
       "        [0.47117472, 0.86708665, 0.30130658, ..., 0.57770383, 0.55218661,\n",
       "         0.660743  ],\n",
       "        [0.24226327, 0.78698474, 0.18610235, ..., 0.72059119, 0.37066349,\n",
       "         0.74715924]]),\n",
       " array([[0.53662503, 0.4759309 , 0.45382869, ..., 0.26321688, 0.24853703,\n",
       "         0.26789537],\n",
       "        [0.42137009, 0.93033004, 0.2764295 , ..., 0.56385922, 0.65386593,\n",
       "         0.51956207],\n",
       "        [0.59532529, 0.98340786, 0.47308478, ..., 0.43155098, 0.69099259,\n",
       "         0.34906361],\n",
       "        ...,\n",
       "        [0.40876806, 0.85123539, 0.29861593, ..., 0.66830546, 0.43814555,\n",
       "         0.71413285],\n",
       "        [0.39679092, 0.54190129, 0.39620224, ..., 0.47995269, 0.52236134,\n",
       "         0.49213594],\n",
       "        [0.69130576, 0.72756743, 0.56444621, ..., 0.32545313, 0.78807038,\n",
       "         0.40652406]]),\n",
       " array(['H', 'A', 'Q', ..., 'V', 'X', 'G'], dtype=object),\n",
       " array(['C', 'Y', 'I', ..., 'T', 'H', 'E'], dtype=object))"
      ]
     },
     "execution_count": 5,
     "metadata": {},
     "output_type": "execute_result"
    }
   ],
   "source": [
    "X_train, X_test, y_train, y_test"
   ]
  },
  {
   "cell_type": "markdown",
   "id": "383ed690",
   "metadata": {},
   "source": [
    "## Normalizing to reduce computational power"
   ]
  },
  {
   "cell_type": "code",
   "execution_count": 6,
   "id": "68241452",
   "metadata": {},
   "outputs": [],
   "source": [
    "scaler = StandardScaler().fit(X_train)\n",
    "\n",
    "X_train = scaler.transform(X_train)\n",
    "X_test = scaler.transform(X_test)"
   ]
  },
  {
   "cell_type": "code",
   "execution_count": 7,
   "id": "3307d98a",
   "metadata": {},
   "outputs": [
    {
     "data": {
      "text/plain": [
       "(array([[-1.57072036, -0.21155633, -1.32163845, ...,  0.59272667,\n",
       "         -1.47269232,  0.53830255],\n",
       "        [ 0.25463511, -0.5991759 ,  0.21645563, ..., -0.6980636 ,\n",
       "          0.24934396, -0.39938976],\n",
       "        [-2.36340684, -0.47845608, -1.97219787, ...,  0.45724772,\n",
       "         -1.26534994,  0.35305407],\n",
       "        ...,\n",
       "        [-0.33738151,  0.57172942, -0.26667732, ...,  0.86702768,\n",
       "         -0.46907242,  0.83975898],\n",
       "        [ 0.01713152,  0.83649373, -0.55213165, ...,  0.35208396,\n",
       "          0.01975752,  0.62571802],\n",
       "        [-1.24613364,  0.38990332, -1.26574532, ...,  1.14377352,\n",
       "         -0.92428742,  1.06042935]]),\n",
       " array([[ 0.37832402, -1.34430835,  0.39264154, ..., -1.39037981,\n",
       "         -1.55942894, -1.35047656],\n",
       "        [-0.2577191 ,  1.18909322, -0.70622858, ...,  0.27537575,\n",
       "          0.54855988, -0.08448353],\n",
       "        [ 0.70226587,  1.48501681,  0.5119202 , ..., -0.45769862,\n",
       "          0.74164403, -0.94216501],\n",
       "        ...,\n",
       "        [-0.32726436,  0.74811855, -0.5687984 , ...,  0.85407631,\n",
       "         -0.57333437,  0.89429219],\n",
       "        [-0.39336109, -0.97650508,  0.03568393, ..., -0.18952141,\n",
       "         -0.13535438, -0.22244887],\n",
       "        [ 1.23194134,  0.05863531,  1.07784359, ..., -1.04555021,\n",
       "          1.24651524, -0.65311389]]))"
      ]
     },
     "execution_count": 7,
     "metadata": {},
     "output_type": "execute_result"
    }
   ],
   "source": [
    "X_train,X_test"
   ]
  },
  {
   "cell_type": "markdown",
   "id": "e88a6bdc",
   "metadata": {},
   "source": [
    "# Making and Testing Accuracy of Different Models"
   ]
  },
  {
   "cell_type": "markdown",
   "id": "f0fd9394",
   "metadata": {},
   "source": [
    "# 1.1 K-Nearest Neighbours Model"
   ]
  },
  {
   "cell_type": "code",
   "execution_count": 8,
   "id": "cd864bf8",
   "metadata": {},
   "outputs": [],
   "source": [
    "classifier = KNeighborsClassifier(n_neighbors=3)\n",
    "\n",
    "classifier.fit(X_train, y_train)\n",
    "\n",
    "y_pred = classifier.predict(X_test)"
   ]
  },
  {
   "cell_type": "code",
   "execution_count": 9,
   "id": "fc1a78b9",
   "metadata": {},
   "outputs": [
    {
     "data": {
      "text/plain": [
       "array(['C', 'Y', 'I', ..., 'T', 'H', 'E'], dtype=object)"
      ]
     },
     "execution_count": 9,
     "metadata": {},
     "output_type": "execute_result"
    }
   ],
   "source": [
    "y_pred"
   ]
  },
  {
   "cell_type": "code",
   "execution_count": 10,
   "id": "bb7a7f13",
   "metadata": {},
   "outputs": [
    {
     "name": "stdout",
     "output_type": "stream",
     "text": [
      "              precision    recall  f1-score   support\n",
      "\n",
      "           A       0.97      0.98      0.97       339\n",
      "           B       0.98      1.00      0.99       322\n",
      "           C       0.99      1.00      1.00       337\n",
      "           D       0.99      0.98      0.98       328\n",
      "           E       0.99      0.98      0.99       328\n",
      "           F       1.00      0.99      0.99       345\n",
      "           G       0.99      1.00      0.99       336\n",
      "           H       1.00      0.99      0.99       345\n",
      "           I       1.00      1.00      1.00       321\n",
      "           J       0.98      1.00      0.99       317\n",
      "           K       0.97      1.00      0.99       330\n",
      "           L       1.00      1.00      1.00       324\n",
      "           M       0.93      0.92      0.92       356\n",
      "           N       0.95      0.92      0.93       355\n",
      "           O       0.96      0.99      0.98       308\n",
      "           P       0.99      0.99      0.99       299\n",
      "           Q       0.99      1.00      0.99       331\n",
      "           R       0.99      0.94      0.96       347\n",
      "           S       0.95      0.97      0.96       327\n",
      "           T       0.99      0.98      0.99       327\n",
      "           U       0.88      0.93      0.91       349\n",
      "           V       0.95      0.93      0.94       306\n",
      "           W       1.00      0.99      0.99       337\n",
      "           X       0.97      0.96      0.97       309\n",
      "           Y       0.99      1.00      0.99       323\n",
      "           Z       0.99      1.00      1.00       334\n",
      "\n",
      "    accuracy                           0.98      8580\n",
      "   macro avg       0.98      0.98      0.98      8580\n",
      "weighted avg       0.98      0.98      0.98      8580\n",
      "\n",
      "Accuracy : 0.9768065268065268\n",
      "f-1 score : 0.977192608531354\n"
     ]
    }
   ],
   "source": [
    "print(classification_report(y_test, y_pred))\n",
    "print(\"Accuracy :\",accuracy_score(y_test, y_pred))\n",
    "print(\"f-1 score :\",f1_score(y_test, y_pred, average='macro'))"
   ]
  },
  {
   "cell_type": "markdown",
   "id": "1f4d75f8",
   "metadata": {},
   "source": [
    "# 1.2 Logistic Regression Model\n"
   ]
  },
  {
   "cell_type": "code",
   "execution_count": 11,
   "id": "c51bc4e8",
   "metadata": {},
   "outputs": [],
   "source": [
    "classifier_2 = LogisticRegression(solver='liblinear', C=10.0, random_state=0)\n",
    "classifier_2.fit(X_train, y_train)\n",
    "\n",
    "y_pred_2 = classifier_2.predict(X_test)"
   ]
  },
  {
   "cell_type": "code",
   "execution_count": 12,
   "id": "cb1c7af2",
   "metadata": {},
   "outputs": [
    {
     "data": {
      "text/plain": [
       "array(['C', 'Y', 'I', ..., 'T', 'H', 'E'], dtype=object)"
      ]
     },
     "execution_count": 12,
     "metadata": {},
     "output_type": "execute_result"
    }
   ],
   "source": [
    "y_pred_2"
   ]
  },
  {
   "cell_type": "code",
   "execution_count": 13,
   "id": "7b9c71f9",
   "metadata": {},
   "outputs": [
    {
     "name": "stdout",
     "output_type": "stream",
     "text": [
      "              precision    recall  f1-score   support\n",
      "\n",
      "           A       0.98      1.00      0.99       339\n",
      "           B       0.98      1.00      0.99       322\n",
      "           C       1.00      1.00      1.00       337\n",
      "           D       1.00      0.99      1.00       328\n",
      "           E       0.99      0.99      0.99       328\n",
      "           F       1.00      0.99      0.99       345\n",
      "           G       1.00      1.00      1.00       336\n",
      "           H       0.99      0.98      0.99       345\n",
      "           I       0.98      0.99      0.99       321\n",
      "           J       0.99      0.99      0.99       317\n",
      "           K       0.99      1.00      1.00       330\n",
      "           L       1.00      1.00      1.00       324\n",
      "           M       0.90      0.93      0.91       356\n",
      "           N       0.94      0.89      0.91       355\n",
      "           O       0.99      1.00      0.99       308\n",
      "           P       1.00      0.99      0.99       299\n",
      "           Q       1.00      0.99      0.99       331\n",
      "           R       0.96      0.95      0.96       347\n",
      "           S       0.98      0.98      0.98       327\n",
      "           T       1.00      0.97      0.98       327\n",
      "           U       0.96      0.96      0.96       349\n",
      "           V       0.99      1.00      1.00       306\n",
      "           W       1.00      0.99      0.99       337\n",
      "           X       0.96      0.98      0.97       309\n",
      "           Y       1.00      1.00      1.00       323\n",
      "           Z       0.99      1.00      1.00       334\n",
      "\n",
      "    accuracy                           0.98      8580\n",
      "   macro avg       0.98      0.98      0.98      8580\n",
      "weighted avg       0.98      0.98      0.98      8580\n",
      "\n",
      "Accuracy : 0.9825174825174825\n",
      "f-1 score : 0.9830347276851428\n"
     ]
    }
   ],
   "source": [
    "print(classification_report(y_test, y_pred_2))\n",
    "print(\"Accuracy :\",accuracy_score(y_test, y_pred_2))\n",
    "print(\"f-1 score :\",f1_score(y_test, y_pred_2, average='macro'))"
   ]
  },
  {
   "cell_type": "markdown",
   "id": "e37de803",
   "metadata": {},
   "source": [
    "# 1.3 Gaussian Naive Bayes Model"
   ]
  },
  {
   "cell_type": "code",
   "execution_count": 14,
   "id": "5974bf71",
   "metadata": {},
   "outputs": [],
   "source": [
    "classifier_3 = GaussianNB(priors = None, var_smoothing = 1e-09)\n",
    "classifier_3.fit(X_train, y_train)\n",
    "\n",
    "y_pred_3 = classifier_3.predict(X_test)"
   ]
  },
  {
   "cell_type": "code",
   "execution_count": 15,
   "id": "205ae676",
   "metadata": {},
   "outputs": [
    {
     "data": {
      "text/plain": [
       "array(['C', 'T', 'T', ..., 'T', 'G', 'E'], dtype='<U1')"
      ]
     },
     "execution_count": 15,
     "metadata": {},
     "output_type": "execute_result"
    }
   ],
   "source": [
    "y_pred_3"
   ]
  },
  {
   "cell_type": "code",
   "execution_count": 16,
   "id": "0e9348dd",
   "metadata": {},
   "outputs": [
    {
     "name": "stdout",
     "output_type": "stream",
     "text": [
      "              precision    recall  f1-score   support\n",
      "\n",
      "           A       0.37      0.53      0.44       339\n",
      "           B       0.64      0.60      0.62       322\n",
      "           C       0.23      0.61      0.34       337\n",
      "           D       0.57      0.49      0.53       328\n",
      "           E       0.59      0.34      0.44       328\n",
      "           F       0.99      0.68      0.80       345\n",
      "           G       0.95      0.32      0.48       336\n",
      "           H       0.69      0.74      0.71       345\n",
      "           I       0.60      0.45      0.52       321\n",
      "           J       0.79      0.60      0.68       317\n",
      "           K       0.30      0.65      0.41       330\n",
      "           L       0.59      0.46      0.52       324\n",
      "           M       0.66      0.23      0.35       356\n",
      "           N       0.22      0.55      0.32       355\n",
      "           O       0.36      0.12      0.18       308\n",
      "           P       0.49      0.68      0.57       299\n",
      "           Q       0.80      0.38      0.51       331\n",
      "           R       0.28      0.10      0.14       347\n",
      "           S       0.14      0.13      0.14       327\n",
      "           T       0.17      0.46      0.25       327\n",
      "           U       0.28      0.05      0.09       349\n",
      "           V       0.11      0.18      0.13       306\n",
      "           W       0.82      0.26      0.40       337\n",
      "           X       0.05      0.05      0.05       309\n",
      "           Y       0.52      0.21      0.30       323\n",
      "           Z       0.87      0.44      0.58       334\n",
      "\n",
      "    accuracy                           0.40      8580\n",
      "   macro avg       0.50      0.40      0.40      8580\n",
      "weighted avg       0.51      0.40      0.40      8580\n",
      "\n",
      "Accuracy : 0.3973193473193473\n",
      "f-1 score : 0.403265564882463\n"
     ]
    }
   ],
   "source": [
    "print(classification_report(y_test, y_pred_3))\n",
    "print(\"Accuracy :\",accuracy_score(y_test, y_pred_3))\n",
    "print(\"f-1 score :\",f1_score(y_test, y_pred_3, average='macro'))"
   ]
  },
  {
   "cell_type": "markdown",
   "id": "735305cf",
   "metadata": {},
   "source": [
    "# 1.4 Support Vector Machines Model"
   ]
  },
  {
   "cell_type": "code",
   "execution_count": 17,
   "id": "a7ae9231",
   "metadata": {},
   "outputs": [],
   "source": [
    "classifier_4 = SVC(kernel='rbf', random_state = 1)\n",
    "classifier_4.fit(X_train,y_train)\n",
    "\n",
    "y_pred_4 = classifier_4.predict(X_test)"
   ]
  },
  {
   "cell_type": "code",
   "execution_count": 18,
   "id": "3fd29873",
   "metadata": {},
   "outputs": [
    {
     "data": {
      "text/plain": [
       "array(['C', 'Y', 'I', ..., 'T', 'H', 'E'], dtype=object)"
      ]
     },
     "execution_count": 18,
     "metadata": {},
     "output_type": "execute_result"
    }
   ],
   "source": [
    "y_pred_4"
   ]
  },
  {
   "cell_type": "code",
   "execution_count": 19,
   "id": "4714acf0",
   "metadata": {},
   "outputs": [
    {
     "name": "stdout",
     "output_type": "stream",
     "text": [
      "              precision    recall  f1-score   support\n",
      "\n",
      "           A       0.98      0.99      0.98       339\n",
      "           B       0.97      1.00      0.98       322\n",
      "           C       0.99      1.00      0.99       337\n",
      "           D       1.00      0.95      0.98       328\n",
      "           E       1.00      1.00      1.00       328\n",
      "           F       1.00      0.99      0.99       345\n",
      "           G       1.00      1.00      1.00       336\n",
      "           H       1.00      1.00      1.00       345\n",
      "           I       0.98      1.00      0.99       321\n",
      "           J       1.00      0.99      0.99       317\n",
      "           K       1.00      0.94      0.97       330\n",
      "           L       1.00      1.00      1.00       324\n",
      "           M       0.91      0.91      0.91       356\n",
      "           N       0.94      0.89      0.91       355\n",
      "           O       0.96      1.00      0.98       308\n",
      "           P       1.00      0.98      0.99       299\n",
      "           Q       0.98      1.00      0.99       331\n",
      "           R       0.99      0.93      0.96       347\n",
      "           S       0.97      0.99      0.98       327\n",
      "           T       1.00      0.98      0.99       327\n",
      "           U       0.81      0.98      0.89       349\n",
      "           V       0.99      0.87      0.93       306\n",
      "           W       1.00      0.99      1.00       337\n",
      "           X       0.99      0.99      0.99       309\n",
      "           Y       1.00      1.00      1.00       323\n",
      "           Z       1.00      1.00      1.00       334\n",
      "\n",
      "    accuracy                           0.98      8580\n",
      "   macro avg       0.98      0.98      0.98      8580\n",
      "weighted avg       0.98      0.98      0.98      8580\n",
      "\n",
      "Accuracy : 0.9752913752913753\n",
      "f-1 score : 0.9760157297096193\n"
     ]
    }
   ],
   "source": [
    "print(classification_report(y_test, y_pred_4))\n",
    "print(\"Accuracy :\",accuracy_score(y_test, y_pred_4))\n",
    "print(\"f-1 score :\",f1_score(y_test, y_pred_4, average='macro'))"
   ]
  },
  {
   "cell_type": "markdown",
   "id": "197a1165",
   "metadata": {},
   "source": [
    "# 1.5 Decision Tree Model"
   ]
  },
  {
   "cell_type": "code",
   "execution_count": 20,
   "id": "9f765448",
   "metadata": {},
   "outputs": [],
   "source": [
    "classifier_5 = DecisionTreeClassifier()\n",
    "classifier_5.fit(X_train,y_train)\n",
    "\n",
    "y_pred_5 = classifier_5.predict(X_test)"
   ]
  },
  {
   "cell_type": "code",
   "execution_count": 21,
   "id": "5529e359",
   "metadata": {},
   "outputs": [
    {
     "data": {
      "text/plain": [
       "array(['C', 'Y', 'I', ..., 'T', 'H', 'E'], dtype=object)"
      ]
     },
     "execution_count": 21,
     "metadata": {},
     "output_type": "execute_result"
    }
   ],
   "source": [
    "y_pred_5"
   ]
  },
  {
   "cell_type": "code",
   "execution_count": 22,
   "id": "6e1d3585",
   "metadata": {},
   "outputs": [
    {
     "name": "stdout",
     "output_type": "stream",
     "text": [
      "              precision    recall  f1-score   support\n",
      "\n",
      "           A       0.94      0.96      0.95       339\n",
      "           B       0.96      0.96      0.96       322\n",
      "           C       0.94      0.95      0.95       337\n",
      "           D       0.89      0.91      0.90       328\n",
      "           E       0.93      0.90      0.92       328\n",
      "           F       0.97      0.96      0.97       345\n",
      "           G       0.96      0.94      0.95       336\n",
      "           H       0.96      0.98      0.97       345\n",
      "           I       0.94      0.96      0.95       321\n",
      "           J       0.88      0.94      0.91       317\n",
      "           K       0.93      0.97      0.95       330\n",
      "           L       0.97      0.95      0.96       324\n",
      "           M       0.85      0.82      0.83       356\n",
      "           N       0.82      0.84      0.83       355\n",
      "           O       0.89      0.91      0.90       308\n",
      "           P       0.96      0.92      0.94       299\n",
      "           Q       0.97      0.95      0.96       331\n",
      "           R       0.90      0.85      0.87       347\n",
      "           S       0.90      0.91      0.91       327\n",
      "           T       0.89      0.92      0.91       327\n",
      "           U       0.81      0.84      0.83       349\n",
      "           V       0.89      0.86      0.87       306\n",
      "           W       0.98      0.97      0.98       337\n",
      "           X       0.93      0.89      0.91       309\n",
      "           Y       0.94      0.94      0.94       323\n",
      "           Z       0.94      0.92      0.93       334\n",
      "\n",
      "    accuracy                           0.92      8580\n",
      "   macro avg       0.92      0.92      0.92      8580\n",
      "weighted avg       0.92      0.92      0.92      8580\n",
      "\n",
      "Accuracy : 0.91993006993007\n",
      "f-1 score : 0.920407197323009\n"
     ]
    }
   ],
   "source": [
    "print(classification_report(y_test, y_pred_5))\n",
    "print(\"Accuracy :\",accuracy_score(y_test, y_pred_5))\n",
    "print(\"f-1 score :\",f1_score(y_test, y_pred_5, average='macro'))"
   ]
  },
  {
   "cell_type": "markdown",
   "id": "8aa38c11",
   "metadata": {},
   "source": [
    "# 1.6 Random Forest Classifier Model"
   ]
  },
  {
   "cell_type": "code",
   "execution_count": 23,
   "id": "ba9a989f",
   "metadata": {},
   "outputs": [],
   "source": [
    "classifier_6 = RandomForestClassifier(n_estimators=100)\n",
    "classifier_6.fit(X_train,y_train)\n",
    "\n",
    "y_pred_6 = classifier_6.predict(X_test)"
   ]
  },
  {
   "cell_type": "code",
   "execution_count": 24,
   "id": "7f3ee890",
   "metadata": {},
   "outputs": [
    {
     "data": {
      "text/plain": [
       "array(['C', 'Y', 'I', ..., 'T', 'H', 'E'], dtype=object)"
      ]
     },
     "execution_count": 24,
     "metadata": {},
     "output_type": "execute_result"
    }
   ],
   "source": [
    "y_pred_6"
   ]
  },
  {
   "cell_type": "code",
   "execution_count": 25,
   "id": "ca5a6e4c",
   "metadata": {},
   "outputs": [
    {
     "name": "stdout",
     "output_type": "stream",
     "text": [
      "              precision    recall  f1-score   support\n",
      "\n",
      "           A       0.98      1.00      0.99       339\n",
      "           B       0.97      1.00      0.99       322\n",
      "           C       0.99      1.00      1.00       337\n",
      "           D       1.00      0.98      0.99       328\n",
      "           E       0.99      0.99      0.99       328\n",
      "           F       1.00      0.99      0.99       345\n",
      "           G       0.99      1.00      1.00       336\n",
      "           H       1.00      0.99      0.99       345\n",
      "           I       0.99      1.00      0.99       321\n",
      "           J       1.00      1.00      1.00       317\n",
      "           K       1.00      0.98      0.99       330\n",
      "           L       1.00      1.00      1.00       324\n",
      "           M       0.94      0.94      0.94       356\n",
      "           N       0.96      0.93      0.95       355\n",
      "           O       0.98      1.00      0.99       308\n",
      "           P       1.00      0.99      0.99       299\n",
      "           Q       0.99      1.00      0.99       331\n",
      "           R       0.98      0.96      0.97       347\n",
      "           S       0.99      0.99      0.99       327\n",
      "           T       1.00      0.98      0.99       327\n",
      "           U       0.92      0.98      0.95       349\n",
      "           V       0.98      0.95      0.97       306\n",
      "           W       1.00      0.99      0.99       337\n",
      "           X       0.98      0.99      0.99       309\n",
      "           Y       0.99      1.00      1.00       323\n",
      "           Z       1.00      1.00      1.00       334\n",
      "\n",
      "    accuracy                           0.99      8580\n",
      "   macro avg       0.99      0.99      0.99      8580\n",
      "weighted avg       0.99      0.99      0.99      8580\n",
      "\n",
      "Accuracy : 0.985081585081585\n",
      "f-1 score : 0.9854117906198909\n"
     ]
    }
   ],
   "source": [
    "print(classification_report(y_test, y_pred_6))\n",
    "print(\"Accuracy :\",accuracy_score(y_test, y_pred_6))\n",
    "print(\"f-1 score :\",f1_score(y_test, y_pred_6, average='macro'))"
   ]
  },
  {
   "cell_type": "markdown",
   "id": "2fe5b497",
   "metadata": {},
   "source": [
    "# Saving the Models"
   ]
  },
  {
   "cell_type": "code",
   "execution_count": 26,
   "id": "d28e252a",
   "metadata": {},
   "outputs": [
    {
     "data": {
      "text/plain": [
       "['Trained_models/randomforest.pkl']"
      ]
     },
     "execution_count": 26,
     "metadata": {},
     "output_type": "execute_result"
    }
   ],
   "source": [
    "joblib.dump(classifier, 'Trained_models/knn.pkl')\n",
    "\n",
    "joblib.dump(classifier_2, 'Trained_models/logisticreg.pkl')\n",
    "\n",
    "joblib.dump(classifier_3, 'Trained_models/gnb.pkl')\n",
    "\n",
    "joblib.dump(classifier_4, 'Trained_models/svm.pkl')\n",
    "\n",
    "joblib.dump(classifier_5, 'Trained_models/decisiontree.pkl')\n",
    "\n",
    "joblib.dump(classifier_6, 'Trained_models/randomforest.pkl')"
   ]
  },
  {
   "cell_type": "code",
   "execution_count": null,
   "id": "cf6f8a2d",
   "metadata": {},
   "outputs": [],
   "source": []
  },
  {
   "cell_type": "code",
   "execution_count": null,
   "id": "21faa4f7",
   "metadata": {},
   "outputs": [],
   "source": []
  },
  {
   "cell_type": "code",
   "execution_count": null,
   "id": "4380dcc3",
   "metadata": {},
   "outputs": [],
   "source": []
  },
  {
   "cell_type": "code",
   "execution_count": null,
   "id": "aba11456",
   "metadata": {},
   "outputs": [],
   "source": []
  }
 ],
 "metadata": {
  "kernelspec": {
   "display_name": "Python 3 (ipykernel)",
   "language": "python",
   "name": "python3"
  },
  "language_info": {
   "codemirror_mode": {
    "name": "ipython",
    "version": 3
   },
   "file_extension": ".py",
   "mimetype": "text/x-python",
   "name": "python",
   "nbconvert_exporter": "python",
   "pygments_lexer": "ipython3",
   "version": "3.11.0rc1"
  },
  "vscode": {
   "interpreter": {
    "hash": "3d059323522d192ff59a99a87f48cca3bf770b79770456f41d750a3c24a8370f"
   }
  }
 },
 "nbformat": 4,
 "nbformat_minor": 5
}
